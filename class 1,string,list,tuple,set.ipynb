{
 "cells": [
  {
   "cell_type": "code",
   "execution_count": 1,
   "id": "24883718",
   "metadata": {},
   "outputs": [
    {
     "data": {
      "text/plain": [
       "2"
      ]
     },
     "execution_count": 1,
     "metadata": {},
     "output_type": "execute_result"
    }
   ],
   "source": [
    "1+1"
   ]
  },
  {
   "cell_type": "code",
   "execution_count": 2,
   "id": "13fe8d54",
   "metadata": {},
   "outputs": [
    {
     "data": {
      "text/plain": [
       "5"
      ]
     },
     "execution_count": 2,
     "metadata": {},
     "output_type": "execute_result"
    }
   ],
   "source": [
    "1*5"
   ]
  },
  {
   "cell_type": "code",
   "execution_count": 3,
   "id": "4b1e7db4",
   "metadata": {},
   "outputs": [
    {
     "data": {
      "text/plain": [
       "1.0"
      ]
     },
     "execution_count": 3,
     "metadata": {},
     "output_type": "execute_result"
    }
   ],
   "source": [
    "5/5"
   ]
  },
  {
   "cell_type": "code",
   "execution_count": 4,
   "id": "0b8445b0",
   "metadata": {},
   "outputs": [],
   "source": [
    "a=10"
   ]
  },
  {
   "cell_type": "code",
   "execution_count": 5,
   "id": "4f31f801",
   "metadata": {},
   "outputs": [
    {
     "data": {
      "text/plain": [
       "int"
      ]
     },
     "execution_count": 5,
     "metadata": {},
     "output_type": "execute_result"
    }
   ],
   "source": [
    "type(a)"
   ]
  },
  {
   "cell_type": "code",
   "execution_count": 6,
   "id": "34024748",
   "metadata": {},
   "outputs": [],
   "source": [
    "b=20"
   ]
  },
  {
   "cell_type": "code",
   "execution_count": 7,
   "id": "64f92a8f",
   "metadata": {},
   "outputs": [
    {
     "data": {
      "text/plain": [
       "20"
      ]
     },
     "execution_count": 7,
     "metadata": {},
     "output_type": "execute_result"
    }
   ],
   "source": [
    "b"
   ]
  },
  {
   "cell_type": "code",
   "execution_count": 9,
   "id": "70ed566f",
   "metadata": {},
   "outputs": [
    {
     "data": {
      "text/plain": [
       "30"
      ]
     },
     "execution_count": 9,
     "metadata": {},
     "output_type": "execute_result"
    }
   ],
   "source": [
    "b+a"
   ]
  },
  {
   "cell_type": "code",
   "execution_count": 10,
   "id": "4aa928e2",
   "metadata": {},
   "outputs": [
    {
     "data": {
      "text/plain": [
       "30"
      ]
     },
     "execution_count": 10,
     "metadata": {},
     "output_type": "execute_result"
    }
   ],
   "source": [
    "a+b"
   ]
  },
  {
   "cell_type": "code",
   "execution_count": 11,
   "id": "596b4279",
   "metadata": {},
   "outputs": [
    {
     "data": {
      "text/plain": [
       "200"
      ]
     },
     "execution_count": 11,
     "metadata": {},
     "output_type": "execute_result"
    }
   ],
   "source": [
    "a*b"
   ]
  },
  {
   "cell_type": "code",
   "execution_count": 12,
   "id": "2dd9ccfe",
   "metadata": {},
   "outputs": [
    {
     "data": {
      "text/plain": [
       "0.5"
      ]
     },
     "execution_count": 12,
     "metadata": {},
     "output_type": "execute_result"
    }
   ],
   "source": [
    "a/b"
   ]
  },
  {
   "cell_type": "code",
   "execution_count": 13,
   "id": "4ead8cd2",
   "metadata": {},
   "outputs": [
    {
     "data": {
      "text/plain": [
       "int"
      ]
     },
     "execution_count": 13,
     "metadata": {},
     "output_type": "execute_result"
    }
   ],
   "source": [
    "type(b)"
   ]
  },
  {
   "cell_type": "code",
   "execution_count": 14,
   "id": "be55607f",
   "metadata": {},
   "outputs": [],
   "source": [
    "b1=25.10515"
   ]
  },
  {
   "cell_type": "code",
   "execution_count": 15,
   "id": "4c4744eb",
   "metadata": {},
   "outputs": [
    {
     "data": {
      "text/plain": [
       "float"
      ]
     },
     "execution_count": 15,
     "metadata": {},
     "output_type": "execute_result"
    }
   ],
   "source": [
    "type(b1)"
   ]
  },
  {
   "cell_type": "code",
   "execution_count": 16,
   "id": "b41e4b7b",
   "metadata": {},
   "outputs": [],
   "source": [
    "c=\"Shubham Tiwari\""
   ]
  },
  {
   "cell_type": "code",
   "execution_count": 17,
   "id": "b5b9aa87",
   "metadata": {},
   "outputs": [
    {
     "data": {
      "text/plain": [
       "'Shubham Tiwari'"
      ]
     },
     "execution_count": 17,
     "metadata": {},
     "output_type": "execute_result"
    }
   ],
   "source": [
    "c"
   ]
  },
  {
   "cell_type": "code",
   "execution_count": 18,
   "id": "6be04ade",
   "metadata": {},
   "outputs": [
    {
     "data": {
      "text/plain": [
       "str"
      ]
     },
     "execution_count": 18,
     "metadata": {},
     "output_type": "execute_result"
    }
   ],
   "source": [
    "type(c)"
   ]
  },
  {
   "cell_type": "code",
   "execution_count": 19,
   "id": "e499bbf9",
   "metadata": {},
   "outputs": [],
   "source": [
    "c1=\"This is my first tech class\""
   ]
  },
  {
   "cell_type": "code",
   "execution_count": 20,
   "id": "6be2678d",
   "metadata": {},
   "outputs": [
    {
     "data": {
      "text/plain": [
       "'This is my first tech class'"
      ]
     },
     "execution_count": 20,
     "metadata": {},
     "output_type": "execute_result"
    }
   ],
   "source": [
    "c1"
   ]
  },
  {
   "cell_type": "code",
   "execution_count": 21,
   "id": "3de52774",
   "metadata": {},
   "outputs": [
    {
     "data": {
      "text/plain": [
       "str"
      ]
     },
     "execution_count": 21,
     "metadata": {},
     "output_type": "execute_result"
    }
   ],
   "source": [
    "type(c1)"
   ]
  },
  {
   "cell_type": "code",
   "execution_count": 22,
   "id": "8903a0e4",
   "metadata": {},
   "outputs": [
    {
     "data": {
      "text/plain": [
       "'THIS IS MY FIRST TECH CLASS'"
      ]
     },
     "execution_count": 22,
     "metadata": {},
     "output_type": "execute_result"
    }
   ],
   "source": [
    "c1.upper()"
   ]
  },
  {
   "cell_type": "code",
   "execution_count": 23,
   "id": "340df7e8",
   "metadata": {},
   "outputs": [
    {
     "data": {
      "text/plain": [
       "'this is my first tech class'"
      ]
     },
     "execution_count": 23,
     "metadata": {},
     "output_type": "execute_result"
    }
   ],
   "source": [
    "c1.lower()"
   ]
  },
  {
   "cell_type": "code",
   "execution_count": 24,
   "id": "291d1528",
   "metadata": {},
   "outputs": [],
   "source": [
    "d=True"
   ]
  },
  {
   "cell_type": "code",
   "execution_count": 25,
   "id": "4b0cb115",
   "metadata": {},
   "outputs": [],
   "source": [
    "e=False"
   ]
  },
  {
   "cell_type": "code",
   "execution_count": 26,
   "id": "c7de8ff6",
   "metadata": {},
   "outputs": [
    {
     "data": {
      "text/plain": [
       "True"
      ]
     },
     "execution_count": 26,
     "metadata": {},
     "output_type": "execute_result"
    }
   ],
   "source": [
    "d"
   ]
  },
  {
   "cell_type": "code",
   "execution_count": 27,
   "id": "4d7be608",
   "metadata": {},
   "outputs": [
    {
     "data": {
      "text/plain": [
       "False"
      ]
     },
     "execution_count": 27,
     "metadata": {},
     "output_type": "execute_result"
    }
   ],
   "source": [
    "e"
   ]
  },
  {
   "cell_type": "code",
   "execution_count": 28,
   "id": "d20bea9e",
   "metadata": {},
   "outputs": [
    {
     "data": {
      "text/plain": [
       "bool"
      ]
     },
     "execution_count": 28,
     "metadata": {},
     "output_type": "execute_result"
    }
   ],
   "source": [
    "type(d)"
   ]
  },
  {
   "cell_type": "code",
   "execution_count": 29,
   "id": "27f9dc89",
   "metadata": {},
   "outputs": [
    {
     "data": {
      "text/plain": [
       "bool"
      ]
     },
     "execution_count": 29,
     "metadata": {},
     "output_type": "execute_result"
    }
   ],
   "source": [
    "type(e)"
   ]
  },
  {
   "cell_type": "code",
   "execution_count": 30,
   "id": "ba907ee0",
   "metadata": {},
   "outputs": [
    {
     "data": {
      "text/plain": [
       "1"
      ]
     },
     "execution_count": 30,
     "metadata": {},
     "output_type": "execute_result"
    }
   ],
   "source": [
    "d+e"
   ]
  },
  {
   "cell_type": "code",
   "execution_count": 31,
   "id": "7e534934",
   "metadata": {},
   "outputs": [
    {
     "data": {
      "text/plain": [
       "0"
      ]
     },
     "execution_count": 31,
     "metadata": {},
     "output_type": "execute_result"
    }
   ],
   "source": [
    "d*e"
   ]
  },
  {
   "cell_type": "code",
   "execution_count": 32,
   "id": "6de982e8",
   "metadata": {},
   "outputs": [],
   "source": [
    "f= 5+8j"
   ]
  },
  {
   "cell_type": "code",
   "execution_count": 35,
   "id": "80297b37",
   "metadata": {},
   "outputs": [
    {
     "data": {
      "text/plain": [
       "complex"
      ]
     },
     "execution_count": 35,
     "metadata": {},
     "output_type": "execute_result"
    }
   ],
   "source": [
    "type(f)"
   ]
  },
  {
   "cell_type": "code",
   "execution_count": 37,
   "id": "a0f64059",
   "metadata": {},
   "outputs": [
    {
     "data": {
      "text/plain": [
       "5.0"
      ]
     },
     "execution_count": 37,
     "metadata": {},
     "output_type": "execute_result"
    }
   ],
   "source": [
    "f.real"
   ]
  },
  {
   "cell_type": "code",
   "execution_count": 38,
   "id": "5d9dbf8e",
   "metadata": {},
   "outputs": [
    {
     "data": {
      "text/plain": [
       "8.0"
      ]
     },
     "execution_count": 38,
     "metadata": {},
     "output_type": "execute_result"
    }
   ],
   "source": [
    "f.imag"
   ]
  },
  {
   "cell_type": "code",
   "execution_count": 39,
   "id": "39d18bd9",
   "metadata": {},
   "outputs": [
    {
     "data": {
      "text/plain": [
       "(5+8j)"
      ]
     },
     "execution_count": 39,
     "metadata": {},
     "output_type": "execute_result"
    }
   ],
   "source": [
    "f"
   ]
  },
  {
   "cell_type": "code",
   "execution_count": 40,
   "id": "a044ab76",
   "metadata": {},
   "outputs": [
    {
     "name": "stdout",
     "output_type": "stream",
     "text": [
      "My name is shubham\n"
     ]
    }
   ],
   "source": [
    "print(\"My name is shubham\")"
   ]
  },
  {
   "cell_type": "code",
   "execution_count": 41,
   "id": "67fa664c",
   "metadata": {},
   "outputs": [],
   "source": [
    "s=\"pwskills\""
   ]
  },
  {
   "cell_type": "code",
   "execution_count": 42,
   "id": "253a5d42",
   "metadata": {},
   "outputs": [
    {
     "data": {
      "text/plain": [
       "'pwskills'"
      ]
     },
     "execution_count": 42,
     "metadata": {},
     "output_type": "execute_result"
    }
   ],
   "source": [
    "s"
   ]
  },
  {
   "cell_type": "code",
   "execution_count": 43,
   "id": "296e7187",
   "metadata": {},
   "outputs": [
    {
     "data": {
      "text/plain": [
       "'p'"
      ]
     },
     "execution_count": 43,
     "metadata": {},
     "output_type": "execute_result"
    }
   ],
   "source": [
    "s[0]"
   ]
  },
  {
   "cell_type": "code",
   "execution_count": 44,
   "id": "06244ea0",
   "metadata": {},
   "outputs": [
    {
     "data": {
      "text/plain": [
       "'sllikswp'"
      ]
     },
     "execution_count": 44,
     "metadata": {},
     "output_type": "execute_result"
    }
   ],
   "source": [
    "s[::-1]"
   ]
  },
  {
   "cell_type": "code",
   "execution_count": 45,
   "id": "460423e5",
   "metadata": {},
   "outputs": [
    {
     "data": {
      "text/plain": [
       "'k'"
      ]
     },
     "execution_count": 45,
     "metadata": {},
     "output_type": "execute_result"
    }
   ],
   "source": [
    "s[3]"
   ]
  },
  {
   "cell_type": "code",
   "execution_count": 49,
   "id": "6577e866",
   "metadata": {},
   "outputs": [
    {
     "data": {
      "text/plain": [
       "'pwskil'"
      ]
     },
     "execution_count": 49,
     "metadata": {},
     "output_type": "execute_result"
    }
   ],
   "source": [
    "s[0:6]"
   ]
  },
  {
   "cell_type": "code",
   "execution_count": 50,
   "id": "207f0505",
   "metadata": {},
   "outputs": [
    {
     "data": {
      "text/plain": [
       "'psi'"
      ]
     },
     "execution_count": 50,
     "metadata": {},
     "output_type": "execute_result"
    }
   ],
   "source": [
    "s[0:6:2]"
   ]
  },
  {
   "cell_type": "code",
   "execution_count": 51,
   "id": "8b74b349",
   "metadata": {},
   "outputs": [],
   "source": [
    "s1=\"This is my string class\""
   ]
  },
  {
   "cell_type": "code",
   "execution_count": 52,
   "id": "31ef273b",
   "metadata": {},
   "outputs": [
    {
     "data": {
      "text/plain": [
       "23"
      ]
     },
     "execution_count": 52,
     "metadata": {},
     "output_type": "execute_result"
    }
   ],
   "source": [
    "len(s1)"
   ]
  },
  {
   "cell_type": "code",
   "execution_count": 53,
   "id": "97a9f8ec",
   "metadata": {},
   "outputs": [
    {
     "data": {
      "text/plain": [
       "3"
      ]
     },
     "execution_count": 53,
     "metadata": {},
     "output_type": "execute_result"
    }
   ],
   "source": [
    "s1.find('s')"
   ]
  },
  {
   "cell_type": "code",
   "execution_count": 54,
   "id": "fc0abb31",
   "metadata": {},
   "outputs": [
    {
     "data": {
      "text/plain": [
       "8"
      ]
     },
     "execution_count": 54,
     "metadata": {},
     "output_type": "execute_result"
    }
   ],
   "source": [
    "s1.find(\"my\")"
   ]
  },
  {
   "cell_type": "code",
   "execution_count": 55,
   "id": "b849673c",
   "metadata": {},
   "outputs": [
    {
     "data": {
      "text/plain": [
       "2"
      ]
     },
     "execution_count": 55,
     "metadata": {},
     "output_type": "execute_result"
    }
   ],
   "source": [
    "s1.find(\"is\")"
   ]
  },
  {
   "cell_type": "code",
   "execution_count": 57,
   "id": "1e6ecde3",
   "metadata": {},
   "outputs": [
    {
     "data": {
      "text/plain": [
       "-1"
      ]
     },
     "execution_count": 57,
     "metadata": {},
     "output_type": "execute_result"
    }
   ],
   "source": [
    "s1.find(\"iS\")"
   ]
  },
  {
   "cell_type": "code",
   "execution_count": 58,
   "id": "4f6c2193",
   "metadata": {},
   "outputs": [
    {
     "data": {
      "text/plain": [
       "2"
      ]
     },
     "execution_count": 58,
     "metadata": {},
     "output_type": "execute_result"
    }
   ],
   "source": [
    "s1.count(\"is\")"
   ]
  },
  {
   "cell_type": "code",
   "execution_count": 59,
   "id": "4718778e",
   "metadata": {},
   "outputs": [
    {
     "data": {
      "text/plain": [
       "0"
      ]
     },
     "execution_count": 59,
     "metadata": {},
     "output_type": "execute_result"
    }
   ],
   "source": [
    "s1.count(\"z\")"
   ]
  },
  {
   "cell_type": "code",
   "execution_count": 60,
   "id": "e3d2a852",
   "metadata": {},
   "outputs": [
    {
     "data": {
      "text/plain": [
       "5"
      ]
     },
     "execution_count": 60,
     "metadata": {},
     "output_type": "execute_result"
    }
   ],
   "source": [
    "s1.count(\"s\")"
   ]
  },
  {
   "cell_type": "code",
   "execution_count": 61,
   "id": "0846d0fd",
   "metadata": {},
   "outputs": [
    {
     "data": {
      "text/plain": [
       "'THIS IS MY STRING CLASS'"
      ]
     },
     "execution_count": 61,
     "metadata": {},
     "output_type": "execute_result"
    }
   ],
   "source": [
    "s1.upper()"
   ]
  },
  {
   "cell_type": "code",
   "execution_count": 62,
   "id": "1aa9fe0a",
   "metadata": {},
   "outputs": [
    {
     "data": {
      "text/plain": [
       "'this is my string class'"
      ]
     },
     "execution_count": 62,
     "metadata": {},
     "output_type": "execute_result"
    }
   ],
   "source": [
    "s1.lower()"
   ]
  },
  {
   "cell_type": "code",
   "execution_count": 63,
   "id": "26592e78",
   "metadata": {},
   "outputs": [
    {
     "data": {
      "text/plain": [
       "'This Is My String Class'"
      ]
     },
     "execution_count": 63,
     "metadata": {},
     "output_type": "execute_result"
    }
   ],
   "source": [
    "s1.title()"
   ]
  },
  {
   "cell_type": "code",
   "execution_count": 64,
   "id": "7964a3e6",
   "metadata": {},
   "outputs": [
    {
     "data": {
      "text/plain": [
       "'This is my string class'"
      ]
     },
     "execution_count": 64,
     "metadata": {},
     "output_type": "execute_result"
    }
   ],
   "source": [
    "s1.capitalize()"
   ]
  },
  {
   "cell_type": "code",
   "execution_count": 67,
   "id": "578a1a8c",
   "metadata": {},
   "outputs": [
    {
     "data": {
      "text/plain": [
       "'This is my string class Shubham'"
      ]
     },
     "execution_count": 67,
     "metadata": {},
     "output_type": "execute_result"
    }
   ],
   "source": [
    "s1+ \" Shubham\""
   ]
  },
  {
   "cell_type": "code",
   "execution_count": 68,
   "id": "ac5322d9",
   "metadata": {},
   "outputs": [],
   "source": [
    "v='Shubham'"
   ]
  },
  {
   "cell_type": "code",
   "execution_count": 69,
   "id": "af789e15",
   "metadata": {},
   "outputs": [
    {
     "data": {
      "text/plain": [
       "'ShubhamShubhamShubham'"
      ]
     },
     "execution_count": 69,
     "metadata": {},
     "output_type": "execute_result"
    }
   ],
   "source": [
    "v*3"
   ]
  },
  {
   "cell_type": "code",
   "execution_count": 70,
   "id": "cff28d6a",
   "metadata": {},
   "outputs": [
    {
     "data": {
      "text/plain": [
       "\"don't do copy and paste in my class\""
      ]
     },
     "execution_count": 70,
     "metadata": {},
     "output_type": "execute_result"
    }
   ],
   "source": [
    "\"don't do copy and paste in my class\""
   ]
  },
  {
   "cell_type": "code",
   "execution_count": 71,
   "id": "74c37f8f",
   "metadata": {},
   "outputs": [],
   "source": [
    "s3 = \"\"\"This is my first class for programming\n",
    "i have leant variable declaration , data type , string , int , boolean , complex number \n",
    "i have seen some example of string slicing and indexing \n",
    "i have gone though some of the string inbuilt function \n",
    "apart from that i am trying to practice in my system \n",
    "but some of us in our calss are not executing code and still they are answering which is bad \"\"\""
   ]
  },
  {
   "cell_type": "code",
   "execution_count": 72,
   "id": "7d091d4c",
   "metadata": {},
   "outputs": [
    {
     "data": {
      "text/plain": [
       "'This is my first class for programming\\ni have leant variable declaration , data type , string , int , boolean , complex number \\ni have seen some example of string slicing and indexing \\ni have gone though some of the string inbuilt function \\napart from that i am trying to practice in my system \\nbut some of us in our calss are not executing code and still they are answering which is bad '"
      ]
     },
     "execution_count": 72,
     "metadata": {},
     "output_type": "execute_result"
    }
   ],
   "source": [
    "s3"
   ]
  },
  {
   "cell_type": "code",
   "execution_count": 73,
   "id": "14410dac",
   "metadata": {},
   "outputs": [
    {
     "data": {
      "text/plain": [
       "'pwskills'"
      ]
     },
     "execution_count": 73,
     "metadata": {},
     "output_type": "execute_result"
    }
   ],
   "source": [
    "s"
   ]
  },
  {
   "cell_type": "code",
   "execution_count": 74,
   "id": "40be44c7",
   "metadata": {},
   "outputs": [
    {
     "data": {
      "text/plain": [
       "'SLLIKSWP'"
      ]
     },
     "execution_count": 74,
     "metadata": {},
     "output_type": "execute_result"
    }
   ],
   "source": [
    "s[::-1].upper()"
   ]
  },
  {
   "cell_type": "code",
   "execution_count": 75,
   "id": "c0a14fb5",
   "metadata": {},
   "outputs": [],
   "source": [
    "s3= \"\"\"Iam praharshitha\n",
    "im in second year\n",
    "i want to learn python\"\"\""
   ]
  },
  {
   "cell_type": "code",
   "execution_count": 76,
   "id": "4da47999",
   "metadata": {},
   "outputs": [
    {
     "data": {
      "text/plain": [
       "'Iam praharshitha\\nim in second year\\ni want to learn python'"
      ]
     },
     "execution_count": 76,
     "metadata": {},
     "output_type": "execute_result"
    }
   ],
   "source": [
    "s3"
   ]
  },
  {
   "cell_type": "code",
   "execution_count": 80,
   "id": "35b30702",
   "metadata": {},
   "outputs": [
    {
     "data": {
      "text/plain": [
       "'pwskillspwskillspwskills'"
      ]
     },
     "execution_count": 80,
     "metadata": {},
     "output_type": "execute_result"
    }
   ],
   "source": [
    "s *3"
   ]
  },
  {
   "cell_type": "markdown",
   "id": "145b96e7",
   "metadata": {},
   "source": [
    "# list"
   ]
  },
  {
   "cell_type": "code",
   "execution_count": 81,
   "id": "4dc27ab3",
   "metadata": {},
   "outputs": [],
   "source": [
    "l =[1,345,45,\"sudh\" ,True ,5+7j , 345.456]"
   ]
  },
  {
   "cell_type": "code",
   "execution_count": 82,
   "id": "2c84b35f",
   "metadata": {},
   "outputs": [
    {
     "data": {
      "text/plain": [
       "[1, 345, 45, 'sudh', True, (5+7j), 345.456]"
      ]
     },
     "execution_count": 82,
     "metadata": {},
     "output_type": "execute_result"
    }
   ],
   "source": [
    "l"
   ]
  },
  {
   "cell_type": "code",
   "execution_count": 84,
   "id": "b58b4b24",
   "metadata": {},
   "outputs": [
    {
     "data": {
      "text/plain": [
       "list"
      ]
     },
     "execution_count": 84,
     "metadata": {},
     "output_type": "execute_result"
    }
   ],
   "source": [
    "type(l)"
   ]
  },
  {
   "cell_type": "code",
   "execution_count": 85,
   "id": "68eff693",
   "metadata": {},
   "outputs": [
    {
     "data": {
      "text/plain": [
       "(5+7j)"
      ]
     },
     "execution_count": 85,
     "metadata": {},
     "output_type": "execute_result"
    }
   ],
   "source": [
    "l[5]"
   ]
  },
  {
   "cell_type": "code",
   "execution_count": 86,
   "id": "270bee77",
   "metadata": {},
   "outputs": [
    {
     "data": {
      "text/plain": [
       "1"
      ]
     },
     "execution_count": 86,
     "metadata": {},
     "output_type": "execute_result"
    }
   ],
   "source": [
    "l[0]"
   ]
  },
  {
   "cell_type": "code",
   "execution_count": 87,
   "id": "f1f9a2dc",
   "metadata": {},
   "outputs": [
    {
     "data": {
      "text/plain": [
       "True"
      ]
     },
     "execution_count": 87,
     "metadata": {},
     "output_type": "execute_result"
    }
   ],
   "source": [
    "l[4]"
   ]
  },
  {
   "cell_type": "code",
   "execution_count": 88,
   "id": "b3262e95",
   "metadata": {},
   "outputs": [
    {
     "data": {
      "text/plain": [
       "5.0"
      ]
     },
     "execution_count": 88,
     "metadata": {},
     "output_type": "execute_result"
    }
   ],
   "source": [
    "l[5].real"
   ]
  },
  {
   "cell_type": "code",
   "execution_count": 89,
   "id": "6f615945",
   "metadata": {},
   "outputs": [
    {
     "data": {
      "text/plain": [
       "7.0"
      ]
     },
     "execution_count": 89,
     "metadata": {},
     "output_type": "execute_result"
    }
   ],
   "source": [
    "l[5].imag"
   ]
  },
  {
   "cell_type": "code",
   "execution_count": 90,
   "id": "7cdc2368",
   "metadata": {},
   "outputs": [
    {
     "data": {
      "text/plain": [
       "[1, 345, 45, 'sudh']"
      ]
     },
     "execution_count": 90,
     "metadata": {},
     "output_type": "execute_result"
    }
   ],
   "source": [
    "l[0:4]"
   ]
  },
  {
   "cell_type": "code",
   "execution_count": 91,
   "id": "ddc6bb0d",
   "metadata": {},
   "outputs": [
    {
     "data": {
      "text/plain": [
       "[345.456, (5+7j), True, 'sudh', 45, 345, 1]"
      ]
     },
     "execution_count": 91,
     "metadata": {},
     "output_type": "execute_result"
    }
   ],
   "source": [
    "l[::-1]"
   ]
  },
  {
   "cell_type": "code",
   "execution_count": 92,
   "id": "67e8c168",
   "metadata": {},
   "outputs": [
    {
     "data": {
      "text/plain": [
       "[1, 45, True, 345.456]"
      ]
     },
     "execution_count": 92,
     "metadata": {},
     "output_type": "execute_result"
    }
   ],
   "source": [
    "l[::2]"
   ]
  },
  {
   "cell_type": "code",
   "execution_count": 93,
   "id": "aec593e2",
   "metadata": {},
   "outputs": [],
   "source": [
    "s5=\"Shubham\""
   ]
  },
  {
   "cell_type": "code",
   "execution_count": 94,
   "id": "6df69df5",
   "metadata": {},
   "outputs": [
    {
     "ename": "TypeError",
     "evalue": "can only concatenate list (not \"str\") to list",
     "output_type": "error",
     "traceback": [
      "\u001b[1;31m---------------------------------------------------------------------------\u001b[0m",
      "\u001b[1;31mTypeError\u001b[0m                                 Traceback (most recent call last)",
      "\u001b[1;32m~\\AppData\\Local\\Temp\\ipykernel_15104\\481124195.py\u001b[0m in \u001b[0;36m<module>\u001b[1;34m\u001b[0m\n\u001b[1;32m----> 1\u001b[1;33m \u001b[0ml\u001b[0m\u001b[1;33m+\u001b[0m\u001b[0ms5\u001b[0m\u001b[1;33m\u001b[0m\u001b[1;33m\u001b[0m\u001b[0m\n\u001b[0m",
      "\u001b[1;31mTypeError\u001b[0m: can only concatenate list (not \"str\") to list"
     ]
    }
   ],
   "source": [
    "l+s5"
   ]
  },
  {
   "cell_type": "code",
   "execution_count": 96,
   "id": "3c462fd2",
   "metadata": {},
   "outputs": [
    {
     "data": {
      "text/plain": [
       "['S', 'h', 'u', 'b', 'h', 'a', 'm', 1, 345, 45, 'sudh', True, (5+7j), 345.456]"
      ]
     },
     "execution_count": 96,
     "metadata": {},
     "output_type": "execute_result"
    }
   ],
   "source": [
    "list(s5) + l"
   ]
  },
  {
   "cell_type": "code",
   "execution_count": 97,
   "id": "cb68abd2",
   "metadata": {},
   "outputs": [
    {
     "data": {
      "text/plain": [
       "[1, 345, 45, 'sudh', True, (5+7j), 345.456]"
      ]
     },
     "execution_count": 97,
     "metadata": {},
     "output_type": "execute_result"
    }
   ],
   "source": [
    "l"
   ]
  },
  {
   "cell_type": "code",
   "execution_count": 98,
   "id": "e51513fd",
   "metadata": {},
   "outputs": [
    {
     "data": {
      "text/plain": [
       "str"
      ]
     },
     "execution_count": 98,
     "metadata": {},
     "output_type": "execute_result"
    }
   ],
   "source": [
    "type(l[3])"
   ]
  },
  {
   "cell_type": "code",
   "execution_count": 99,
   "id": "dd76cc04",
   "metadata": {},
   "outputs": [
    {
     "data": {
      "text/plain": [
       "bool"
      ]
     },
     "execution_count": 99,
     "metadata": {},
     "output_type": "execute_result"
    }
   ],
   "source": [
    "type(l[4])"
   ]
  },
  {
   "cell_type": "code",
   "execution_count": 100,
   "id": "514a6ebf",
   "metadata": {},
   "outputs": [
    {
     "data": {
      "text/plain": [
       "complex"
      ]
     },
     "execution_count": 100,
     "metadata": {},
     "output_type": "execute_result"
    }
   ],
   "source": [
    "type(l[5])"
   ]
  },
  {
   "cell_type": "code",
   "execution_count": 101,
   "id": "cbc81fcd",
   "metadata": {},
   "outputs": [
    {
     "data": {
      "text/plain": [
       "float"
      ]
     },
     "execution_count": 101,
     "metadata": {},
     "output_type": "execute_result"
    }
   ],
   "source": [
    "type(l[6])"
   ]
  },
  {
   "cell_type": "code",
   "execution_count": 102,
   "id": "da358a74",
   "metadata": {},
   "outputs": [
    {
     "data": {
      "text/plain": [
       "'su'"
      ]
     },
     "execution_count": 102,
     "metadata": {},
     "output_type": "execute_result"
    }
   ],
   "source": [
    "l[3][0:2]"
   ]
  },
  {
   "cell_type": "code",
   "execution_count": 104,
   "id": "730c128a",
   "metadata": {},
   "outputs": [
    {
     "data": {
      "text/plain": [
       "'Tr'"
      ]
     },
     "execution_count": 104,
     "metadata": {},
     "output_type": "execute_result"
    }
   ],
   "source": [
    "str(l[4])[0:2]"
   ]
  },
  {
   "cell_type": "code",
   "execution_count": 105,
   "id": "5b35d1d8",
   "metadata": {},
   "outputs": [
    {
     "data": {
      "text/plain": [
       "[1, 345, 45, 'sudh', True, (5+7j), 345.456]"
      ]
     },
     "execution_count": 105,
     "metadata": {},
     "output_type": "execute_result"
    }
   ],
   "source": [
    "l"
   ]
  },
  {
   "cell_type": "code",
   "execution_count": 106,
   "id": "178c8bc5",
   "metadata": {},
   "outputs": [
    {
     "data": {
      "text/plain": [
       "7"
      ]
     },
     "execution_count": 106,
     "metadata": {},
     "output_type": "execute_result"
    }
   ],
   "source": [
    "len(l)"
   ]
  },
  {
   "cell_type": "code",
   "execution_count": 107,
   "id": "1259a7ed",
   "metadata": {},
   "outputs": [],
   "source": [
    "l.append(5)"
   ]
  },
  {
   "cell_type": "code",
   "execution_count": 108,
   "id": "25b74297",
   "metadata": {},
   "outputs": [
    {
     "data": {
      "text/plain": [
       "[1, 345, 45, 'sudh', True, (5+7j), 345.456, 5]"
      ]
     },
     "execution_count": 108,
     "metadata": {},
     "output_type": "execute_result"
    }
   ],
   "source": [
    "l"
   ]
  },
  {
   "cell_type": "code",
   "execution_count": 109,
   "id": "23f5d617",
   "metadata": {},
   "outputs": [],
   "source": [
    "l.append(\"Shubham\")"
   ]
  },
  {
   "cell_type": "code",
   "execution_count": 110,
   "id": "df1692f8",
   "metadata": {},
   "outputs": [
    {
     "data": {
      "text/plain": [
       "[1, 345, 45, 'sudh', True, (5+7j), 345.456, 5, 'Shubham']"
      ]
     },
     "execution_count": 110,
     "metadata": {},
     "output_type": "execute_result"
    }
   ],
   "source": [
    "l"
   ]
  },
  {
   "cell_type": "code",
   "execution_count": 111,
   "id": "4c7d4f0a",
   "metadata": {},
   "outputs": [],
   "source": [
    "z=\"online clasess\""
   ]
  },
  {
   "cell_type": "code",
   "execution_count": 112,
   "id": "8f1147d7",
   "metadata": {},
   "outputs": [],
   "source": [
    "l.append(z)"
   ]
  },
  {
   "cell_type": "code",
   "execution_count": 113,
   "id": "afdde0ae",
   "metadata": {},
   "outputs": [
    {
     "data": {
      "text/plain": [
       "[1, 345, 45, 'sudh', True, (5+7j), 345.456, 5, 'Shubham', 'online clasess']"
      ]
     },
     "execution_count": 113,
     "metadata": {},
     "output_type": "execute_result"
    }
   ],
   "source": [
    "l"
   ]
  },
  {
   "cell_type": "code",
   "execution_count": 114,
   "id": "324fc1a7",
   "metadata": {},
   "outputs": [],
   "source": [
    "l.extend(\"google\")"
   ]
  },
  {
   "cell_type": "code",
   "execution_count": 115,
   "id": "83207f9c",
   "metadata": {},
   "outputs": [
    {
     "data": {
      "text/plain": [
       "[1,\n",
       " 345,\n",
       " 45,\n",
       " 'sudh',\n",
       " True,\n",
       " (5+7j),\n",
       " 345.456,\n",
       " 5,\n",
       " 'Shubham',\n",
       " 'online clasess',\n",
       " 'g',\n",
       " 'o',\n",
       " 'o',\n",
       " 'g',\n",
       " 'l',\n",
       " 'e']"
      ]
     },
     "execution_count": 115,
     "metadata": {},
     "output_type": "execute_result"
    }
   ],
   "source": [
    "l"
   ]
  },
  {
   "cell_type": "code",
   "execution_count": 116,
   "id": "d50b99e7",
   "metadata": {},
   "outputs": [],
   "source": [
    "l.extend([2,4,6])"
   ]
  },
  {
   "cell_type": "code",
   "execution_count": 117,
   "id": "2622637f",
   "metadata": {},
   "outputs": [
    {
     "data": {
      "text/plain": [
       "[1,\n",
       " 345,\n",
       " 45,\n",
       " 'sudh',\n",
       " True,\n",
       " (5+7j),\n",
       " 345.456,\n",
       " 5,\n",
       " 'Shubham',\n",
       " 'online clasess',\n",
       " 'g',\n",
       " 'o',\n",
       " 'o',\n",
       " 'g',\n",
       " 'l',\n",
       " 'e',\n",
       " 2,\n",
       " 4,\n",
       " 6]"
      ]
     },
     "execution_count": 117,
     "metadata": {},
     "output_type": "execute_result"
    }
   ],
   "source": [
    "l"
   ]
  },
  {
   "cell_type": "code",
   "execution_count": 118,
   "id": "ea4f8b8b",
   "metadata": {},
   "outputs": [],
   "source": [
    "l.insert(3,\"pw\")"
   ]
  },
  {
   "cell_type": "code",
   "execution_count": 119,
   "id": "3e440116",
   "metadata": {},
   "outputs": [
    {
     "data": {
      "text/plain": [
       "[1,\n",
       " 345,\n",
       " 45,\n",
       " 'pw',\n",
       " 'sudh',\n",
       " True,\n",
       " (5+7j),\n",
       " 345.456,\n",
       " 5,\n",
       " 'Shubham',\n",
       " 'online clasess',\n",
       " 'g',\n",
       " 'o',\n",
       " 'o',\n",
       " 'g',\n",
       " 'l',\n",
       " 'e',\n",
       " 2,\n",
       " 4,\n",
       " 6]"
      ]
     },
     "execution_count": 119,
     "metadata": {},
     "output_type": "execute_result"
    }
   ],
   "source": [
    "l"
   ]
  },
  {
   "cell_type": "code",
   "execution_count": 120,
   "id": "fea0554c",
   "metadata": {},
   "outputs": [],
   "source": [
    "l2=[2,3,4,6,8,\"Shubham\"]"
   ]
  },
  {
   "cell_type": "code",
   "execution_count": 121,
   "id": "ffc91520",
   "metadata": {},
   "outputs": [
    {
     "data": {
      "text/plain": [
       "[2, 3, 4, 6, 8, 'Shubham']"
      ]
     },
     "execution_count": 121,
     "metadata": {},
     "output_type": "execute_result"
    }
   ],
   "source": [
    "l2"
   ]
  },
  {
   "cell_type": "code",
   "execution_count": 122,
   "id": "aa3e6d16",
   "metadata": {},
   "outputs": [],
   "source": [
    "l2.insert(2,\"pwskills\")"
   ]
  },
  {
   "cell_type": "code",
   "execution_count": 123,
   "id": "ed3f155e",
   "metadata": {},
   "outputs": [
    {
     "data": {
      "text/plain": [
       "[2, 3, 'pwskills', 4, 6, 8, 'Shubham']"
      ]
     },
     "execution_count": 123,
     "metadata": {},
     "output_type": "execute_result"
    }
   ],
   "source": [
    "l2"
   ]
  },
  {
   "cell_type": "code",
   "execution_count": 127,
   "id": "45a6233f",
   "metadata": {},
   "outputs": [
    {
     "data": {
      "text/plain": [
       "8"
      ]
     },
     "execution_count": 127,
     "metadata": {},
     "output_type": "execute_result"
    }
   ],
   "source": [
    "l2.pop()"
   ]
  },
  {
   "cell_type": "code",
   "execution_count": 128,
   "id": "1bce740c",
   "metadata": {},
   "outputs": [
    {
     "data": {
      "text/plain": [
       "[2, 3, 'pwskills', 4, 6]"
      ]
     },
     "execution_count": 128,
     "metadata": {},
     "output_type": "execute_result"
    }
   ],
   "source": [
    "l2"
   ]
  },
  {
   "cell_type": "code",
   "execution_count": 129,
   "id": "8cb16604",
   "metadata": {},
   "outputs": [
    {
     "data": {
      "text/plain": [
       "4"
      ]
     },
     "execution_count": 129,
     "metadata": {},
     "output_type": "execute_result"
    }
   ],
   "source": [
    "l2.pop(3)"
   ]
  },
  {
   "cell_type": "code",
   "execution_count": 130,
   "id": "b8bc7d28",
   "metadata": {},
   "outputs": [
    {
     "data": {
      "text/plain": [
       "[2, 3, 'pwskills', 6]"
      ]
     },
     "execution_count": 130,
     "metadata": {},
     "output_type": "execute_result"
    }
   ],
   "source": [
    "l2"
   ]
  },
  {
   "cell_type": "code",
   "execution_count": 131,
   "id": "40521be6",
   "metadata": {},
   "outputs": [],
   "source": [
    "l2.remove(6)"
   ]
  },
  {
   "cell_type": "code",
   "execution_count": 132,
   "id": "b1ee1d35",
   "metadata": {},
   "outputs": [
    {
     "data": {
      "text/plain": [
       "[2, 3, 'pwskills']"
      ]
     },
     "execution_count": 132,
     "metadata": {},
     "output_type": "execute_result"
    }
   ],
   "source": [
    "l2"
   ]
  },
  {
   "cell_type": "code",
   "execution_count": 133,
   "id": "3bb360d4",
   "metadata": {},
   "outputs": [],
   "source": [
    "l2.append(6)"
   ]
  },
  {
   "cell_type": "code",
   "execution_count": 134,
   "id": "7d0f590c",
   "metadata": {},
   "outputs": [
    {
     "data": {
      "text/plain": [
       "[2, 3, 'pwskills', 6]"
      ]
     },
     "execution_count": 134,
     "metadata": {},
     "output_type": "execute_result"
    }
   ],
   "source": [
    "l2"
   ]
  },
  {
   "cell_type": "code",
   "execution_count": 135,
   "id": "ed31f16b",
   "metadata": {},
   "outputs": [],
   "source": [
    "l2.append(\"Shubham\")"
   ]
  },
  {
   "cell_type": "code",
   "execution_count": 136,
   "id": "a9b8d3a4",
   "metadata": {},
   "outputs": [
    {
     "data": {
      "text/plain": [
       "[2, 3, 'pwskills', 6, 'Shubham']"
      ]
     },
     "execution_count": 136,
     "metadata": {},
     "output_type": "execute_result"
    }
   ],
   "source": [
    "l2"
   ]
  },
  {
   "cell_type": "code",
   "execution_count": 137,
   "id": "d759a16d",
   "metadata": {},
   "outputs": [],
   "source": [
    "l2.append(10)"
   ]
  },
  {
   "cell_type": "code",
   "execution_count": 138,
   "id": "2279dae7",
   "metadata": {},
   "outputs": [
    {
     "data": {
      "text/plain": [
       "[2, 3, 'pwskills', 6, 'Shubham', 10]"
      ]
     },
     "execution_count": 138,
     "metadata": {},
     "output_type": "execute_result"
    }
   ],
   "source": [
    "l2"
   ]
  },
  {
   "cell_type": "code",
   "execution_count": 139,
   "id": "596c884c",
   "metadata": {},
   "outputs": [],
   "source": [
    "l2.append([2,4,6])"
   ]
  },
  {
   "cell_type": "code",
   "execution_count": 140,
   "id": "12470604",
   "metadata": {},
   "outputs": [
    {
     "data": {
      "text/plain": [
       "[2, 3, 'pwskills', 6, 'Shubham', 10, [2, 4, 6]]"
      ]
     },
     "execution_count": 140,
     "metadata": {},
     "output_type": "execute_result"
    }
   ],
   "source": [
    "l2"
   ]
  },
  {
   "cell_type": "code",
   "execution_count": 141,
   "id": "4aad60b1",
   "metadata": {},
   "outputs": [],
   "source": [
    "l2[-1].remove(4)"
   ]
  },
  {
   "cell_type": "code",
   "execution_count": 142,
   "id": "6dc84134",
   "metadata": {},
   "outputs": [
    {
     "data": {
      "text/plain": [
       "[2, 3, 'pwskills', 6, 'Shubham', 10, [2, 6]]"
      ]
     },
     "execution_count": 142,
     "metadata": {},
     "output_type": "execute_result"
    }
   ],
   "source": [
    "l2"
   ]
  },
  {
   "cell_type": "code",
   "execution_count": 143,
   "id": "42427b5c",
   "metadata": {},
   "outputs": [
    {
     "data": {
      "text/plain": [
       "[[2, 6], 10, 'Shubham', 6, 'pwskills', 3, 2]"
      ]
     },
     "execution_count": 143,
     "metadata": {},
     "output_type": "execute_result"
    }
   ],
   "source": [
    "l2[::-1]"
   ]
  },
  {
   "cell_type": "code",
   "execution_count": 144,
   "id": "46e712b5",
   "metadata": {},
   "outputs": [
    {
     "data": {
      "text/plain": [
       "[2, 3, 'pwskills', 6, 'Shubham', 10, [2, 6]]"
      ]
     },
     "execution_count": 144,
     "metadata": {},
     "output_type": "execute_result"
    }
   ],
   "source": [
    "l2"
   ]
  },
  {
   "cell_type": "code",
   "execution_count": 145,
   "id": "d5c7fdfe",
   "metadata": {},
   "outputs": [],
   "source": [
    "l2.reverse()"
   ]
  },
  {
   "cell_type": "code",
   "execution_count": 146,
   "id": "b8feba5a",
   "metadata": {},
   "outputs": [
    {
     "data": {
      "text/plain": [
       "[[2, 6], 10, 'Shubham', 6, 'pwskills', 3, 2]"
      ]
     },
     "execution_count": 146,
     "metadata": {},
     "output_type": "execute_result"
    }
   ],
   "source": [
    "l2"
   ]
  },
  {
   "cell_type": "code",
   "execution_count": 147,
   "id": "403bede6",
   "metadata": {},
   "outputs": [
    {
     "data": {
      "text/plain": [
       "[[2, 6], 10, 'Shubham', 6, 'pwskills', 3, 2]"
      ]
     },
     "execution_count": 147,
     "metadata": {},
     "output_type": "execute_result"
    }
   ],
   "source": [
    "l2"
   ]
  },
  {
   "cell_type": "code",
   "execution_count": 148,
   "id": "35858b32",
   "metadata": {},
   "outputs": [],
   "source": [
    "l3=[0,1,25,36,45,12,11,48,75,100,85,9542]"
   ]
  },
  {
   "cell_type": "code",
   "execution_count": 149,
   "id": "0798721e",
   "metadata": {},
   "outputs": [
    {
     "data": {
      "text/plain": [
       "[0, 1, 25, 36, 45, 12, 11, 48, 75, 100, 85, 9542]"
      ]
     },
     "execution_count": 149,
     "metadata": {},
     "output_type": "execute_result"
    }
   ],
   "source": [
    "l3"
   ]
  },
  {
   "cell_type": "code",
   "execution_count": 150,
   "id": "0b05aae8",
   "metadata": {},
   "outputs": [],
   "source": [
    "l3.sort()"
   ]
  },
  {
   "cell_type": "code",
   "execution_count": 151,
   "id": "b0aa13cb",
   "metadata": {},
   "outputs": [
    {
     "data": {
      "text/plain": [
       "[0, 1, 11, 12, 25, 36, 45, 48, 75, 85, 100, 9542]"
      ]
     },
     "execution_count": 151,
     "metadata": {},
     "output_type": "execute_result"
    }
   ],
   "source": [
    "l3"
   ]
  },
  {
   "cell_type": "code",
   "execution_count": 152,
   "id": "1f28230c",
   "metadata": {},
   "outputs": [],
   "source": [
    "l4 = [\"sudh\" , \"kumar\" , \"pwskills\" , \"data science\"]"
   ]
  },
  {
   "cell_type": "code",
   "execution_count": 153,
   "id": "55232403",
   "metadata": {},
   "outputs": [
    {
     "data": {
      "text/plain": [
       "['sudh', 'kumar', 'pwskills', 'data science']"
      ]
     },
     "execution_count": 153,
     "metadata": {},
     "output_type": "execute_result"
    }
   ],
   "source": [
    "l4"
   ]
  },
  {
   "cell_type": "code",
   "execution_count": 154,
   "id": "73b3f5fe",
   "metadata": {},
   "outputs": [],
   "source": [
    "l4.sort(reverse=True)"
   ]
  },
  {
   "cell_type": "code",
   "execution_count": 155,
   "id": "d777de19",
   "metadata": {},
   "outputs": [
    {
     "data": {
      "text/plain": [
       "['sudh', 'pwskills', 'kumar', 'data science']"
      ]
     },
     "execution_count": 155,
     "metadata": {},
     "output_type": "execute_result"
    }
   ],
   "source": [
    "l4"
   ]
  },
  {
   "cell_type": "code",
   "execution_count": 157,
   "id": "b05affd7",
   "metadata": {},
   "outputs": [
    {
     "data": {
      "text/plain": [
       "2"
      ]
     },
     "execution_count": 157,
     "metadata": {},
     "output_type": "execute_result"
    }
   ],
   "source": [
    "l4.index(\"kumar\")"
   ]
  },
  {
   "cell_type": "code",
   "execution_count": 158,
   "id": "ab122711",
   "metadata": {},
   "outputs": [
    {
     "data": {
      "text/plain": [
       "1"
      ]
     },
     "execution_count": 158,
     "metadata": {},
     "output_type": "execute_result"
    }
   ],
   "source": [
    "l4.count(\"sudh\")"
   ]
  },
  {
   "cell_type": "code",
   "execution_count": 159,
   "id": "c6fc9d9c",
   "metadata": {},
   "outputs": [
    {
     "data": {
      "text/plain": [
       "['sudh', 'pwskills', 'kumar', 'data science']"
      ]
     },
     "execution_count": 159,
     "metadata": {},
     "output_type": "execute_result"
    }
   ],
   "source": [
    "l4"
   ]
  },
  {
   "cell_type": "code",
   "execution_count": 160,
   "id": "68e444e1",
   "metadata": {},
   "outputs": [],
   "source": [
    "l4.append(\"sudh\")"
   ]
  },
  {
   "cell_type": "code",
   "execution_count": 161,
   "id": "3b1fb8b9",
   "metadata": {},
   "outputs": [
    {
     "data": {
      "text/plain": [
       "['sudh', 'pwskills', 'kumar', 'data science', 'sudh']"
      ]
     },
     "execution_count": 161,
     "metadata": {},
     "output_type": "execute_result"
    }
   ],
   "source": [
    "l4"
   ]
  },
  {
   "cell_type": "code",
   "execution_count": 162,
   "id": "641df18d",
   "metadata": {},
   "outputs": [
    {
     "data": {
      "text/plain": [
       "2"
      ]
     },
     "execution_count": 162,
     "metadata": {},
     "output_type": "execute_result"
    }
   ],
   "source": [
    "l4.count(\"sudh\")"
   ]
  },
  {
   "cell_type": "code",
   "execution_count": 163,
   "id": "5f0825dc",
   "metadata": {},
   "outputs": [],
   "source": [
    "l5=[25,30,12]"
   ]
  },
  {
   "cell_type": "code",
   "execution_count": 164,
   "id": "eb637605",
   "metadata": {},
   "outputs": [
    {
     "data": {
      "text/plain": [
       "[25, 30, 12]"
      ]
     },
     "execution_count": 164,
     "metadata": {},
     "output_type": "execute_result"
    }
   ],
   "source": [
    "l5"
   ]
  },
  {
   "cell_type": "code",
   "execution_count": 165,
   "id": "5da34475",
   "metadata": {},
   "outputs": [],
   "source": [
    "l5[2]=20"
   ]
  },
  {
   "cell_type": "code",
   "execution_count": 166,
   "id": "351240d4",
   "metadata": {},
   "outputs": [
    {
     "data": {
      "text/plain": [
       "[25, 30, 20]"
      ]
     },
     "execution_count": 166,
     "metadata": {},
     "output_type": "execute_result"
    }
   ],
   "source": [
    "l5"
   ]
  },
  {
   "cell_type": "code",
   "execution_count": 167,
   "id": "dd1ccf6b",
   "metadata": {},
   "outputs": [],
   "source": [
    "s=\"learning\""
   ]
  },
  {
   "cell_type": "code",
   "execution_count": 168,
   "id": "ae53e8ff",
   "metadata": {},
   "outputs": [
    {
     "data": {
      "text/plain": [
       "'eearning'"
      ]
     },
     "execution_count": 168,
     "metadata": {},
     "output_type": "execute_result"
    }
   ],
   "source": [
    "s.replace(\"l\",\"e\")"
   ]
  },
  {
   "cell_type": "code",
   "execution_count": 169,
   "id": "a8ffb4a0",
   "metadata": {},
   "outputs": [
    {
     "data": {
      "text/plain": [
       "'learning'"
      ]
     },
     "execution_count": 169,
     "metadata": {},
     "output_type": "execute_result"
    }
   ],
   "source": [
    "s"
   ]
  },
  {
   "cell_type": "code",
   "execution_count": 170,
   "id": "d027f69b",
   "metadata": {},
   "outputs": [],
   "source": [
    "t = (2,3,4,5,\"shubham\" , 45.56, False , 45+457j , [3,4,5] )"
   ]
  },
  {
   "cell_type": "code",
   "execution_count": 171,
   "id": "1cca7842",
   "metadata": {},
   "outputs": [
    {
     "data": {
      "text/plain": [
       "(2, 3, 4, 5, 'shubham', 45.56, False, (45+457j), [3, 4, 5])"
      ]
     },
     "execution_count": 171,
     "metadata": {},
     "output_type": "execute_result"
    }
   ],
   "source": [
    "\n",
    "t"
   ]
  },
  {
   "cell_type": "code",
   "execution_count": 172,
   "id": "6424ad08",
   "metadata": {},
   "outputs": [
    {
     "data": {
      "text/plain": [
       "tuple"
      ]
     },
     "execution_count": 172,
     "metadata": {},
     "output_type": "execute_result"
    }
   ],
   "source": [
    "type(t)"
   ]
  },
  {
   "cell_type": "code",
   "execution_count": 173,
   "id": "7b1ea22d",
   "metadata": {},
   "outputs": [
    {
     "data": {
      "text/plain": [
       "9"
      ]
     },
     "execution_count": 173,
     "metadata": {},
     "output_type": "execute_result"
    }
   ],
   "source": [
    "len(t)"
   ]
  },
  {
   "cell_type": "code",
   "execution_count": 174,
   "id": "8c9e7724",
   "metadata": {},
   "outputs": [
    {
     "data": {
      "text/plain": [
       "4"
      ]
     },
     "execution_count": 174,
     "metadata": {},
     "output_type": "execute_result"
    }
   ],
   "source": [
    "t[2]"
   ]
  },
  {
   "cell_type": "code",
   "execution_count": 175,
   "id": "e50870ab",
   "metadata": {},
   "outputs": [
    {
     "data": {
      "text/plain": [
       "45.56"
      ]
     },
     "execution_count": 175,
     "metadata": {},
     "output_type": "execute_result"
    }
   ],
   "source": [
    "t[5]"
   ]
  },
  {
   "cell_type": "code",
   "execution_count": 176,
   "id": "f3919b1d",
   "metadata": {},
   "outputs": [
    {
     "data": {
      "text/plain": [
       "'shubham'"
      ]
     },
     "execution_count": 176,
     "metadata": {},
     "output_type": "execute_result"
    }
   ],
   "source": [
    "t[4]"
   ]
  },
  {
   "cell_type": "code",
   "execution_count": 177,
   "id": "285058aa",
   "metadata": {},
   "outputs": [
    {
     "data": {
      "text/plain": [
       "[3, 4, 5]"
      ]
     },
     "execution_count": 177,
     "metadata": {},
     "output_type": "execute_result"
    }
   ],
   "source": [
    "t[-1]"
   ]
  },
  {
   "cell_type": "code",
   "execution_count": 178,
   "id": "85a289e2",
   "metadata": {},
   "outputs": [
    {
     "data": {
      "text/plain": [
       "([3, 4, 5], (45+457j), False, 45.56, 'shubham', 5, 4, 3, 2)"
      ]
     },
     "execution_count": 178,
     "metadata": {},
     "output_type": "execute_result"
    }
   ],
   "source": [
    "t[::-1]"
   ]
  },
  {
   "cell_type": "code",
   "execution_count": 179,
   "id": "a1302b98",
   "metadata": {},
   "outputs": [
    {
     "data": {
      "text/plain": [
       "(2, 3, 4, 5, 'shubham', 45.56, False, (45+457j), [3, 4, 5])"
      ]
     },
     "execution_count": 179,
     "metadata": {},
     "output_type": "execute_result"
    }
   ],
   "source": [
    "t"
   ]
  },
  {
   "cell_type": "code",
   "execution_count": 180,
   "id": "309c7ffc",
   "metadata": {},
   "outputs": [
    {
     "data": {
      "text/plain": [
       "['sudh', 'pwskills', 'kumar', 'data science', 'sudh']"
      ]
     },
     "execution_count": 180,
     "metadata": {},
     "output_type": "execute_result"
    }
   ],
   "source": [
    "l4"
   ]
  },
  {
   "cell_type": "code",
   "execution_count": 181,
   "id": "ba5bbe68",
   "metadata": {},
   "outputs": [],
   "source": [
    "l4[0]=2547"
   ]
  },
  {
   "cell_type": "code",
   "execution_count": 182,
   "id": "6dd893e0",
   "metadata": {},
   "outputs": [
    {
     "data": {
      "text/plain": [
       "[2547, 'pwskills', 'kumar', 'data science', 'sudh']"
      ]
     },
     "execution_count": 182,
     "metadata": {},
     "output_type": "execute_result"
    }
   ],
   "source": [
    "l4"
   ]
  },
  {
   "cell_type": "code",
   "execution_count": 183,
   "id": "3d047cfb",
   "metadata": {},
   "outputs": [
    {
     "data": {
      "text/plain": [
       "(2, 3, 4, 5, 'shubham', 45.56, False, (45+457j), [3, 4, 5])"
      ]
     },
     "execution_count": 183,
     "metadata": {},
     "output_type": "execute_result"
    }
   ],
   "source": [
    "t"
   ]
  },
  {
   "cell_type": "code",
   "execution_count": 184,
   "id": "23ab9eb8",
   "metadata": {},
   "outputs": [
    {
     "data": {
      "text/plain": [
       "1"
      ]
     },
     "execution_count": 184,
     "metadata": {},
     "output_type": "execute_result"
    }
   ],
   "source": [
    "t.count(5)"
   ]
  },
  {
   "cell_type": "code",
   "execution_count": 185,
   "id": "83680239",
   "metadata": {},
   "outputs": [
    {
     "data": {
      "text/plain": [
       "1"
      ]
     },
     "execution_count": 185,
     "metadata": {},
     "output_type": "execute_result"
    }
   ],
   "source": [
    "t.count(False)"
   ]
  },
  {
   "cell_type": "code",
   "execution_count": 186,
   "id": "f06d6d9a",
   "metadata": {},
   "outputs": [
    {
     "data": {
      "text/plain": [
       "6"
      ]
     },
     "execution_count": 186,
     "metadata": {},
     "output_type": "execute_result"
    }
   ],
   "source": [
    "t.index(False)"
   ]
  },
  {
   "cell_type": "code",
   "execution_count": 187,
   "id": "e7d8fe1e",
   "metadata": {},
   "outputs": [
    {
     "data": {
      "text/plain": [
       "(2, 3, 4, 5, 'shubham', 45.56, False, (45+457j), [3, 4, 5])"
      ]
     },
     "execution_count": 187,
     "metadata": {},
     "output_type": "execute_result"
    }
   ],
   "source": [
    "t"
   ]
  },
  {
   "cell_type": "code",
   "execution_count": 188,
   "id": "d31ee77f",
   "metadata": {},
   "outputs": [],
   "source": [
    "ss1={}"
   ]
  },
  {
   "cell_type": "code",
   "execution_count": 189,
   "id": "6f7ee78a",
   "metadata": {},
   "outputs": [
    {
     "data": {
      "text/plain": [
       "dict"
      ]
     },
     "execution_count": 189,
     "metadata": {},
     "output_type": "execute_result"
    }
   ],
   "source": [
    "type(ss1)"
   ]
  },
  {
   "cell_type": "code",
   "execution_count": 191,
   "id": "65634f20",
   "metadata": {},
   "outputs": [],
   "source": [
    "ss2={1,2,3,4,5,6,7}"
   ]
  },
  {
   "cell_type": "code",
   "execution_count": 192,
   "id": "335305ed",
   "metadata": {},
   "outputs": [
    {
     "data": {
      "text/plain": [
       "{1, 2, 3, 4, 5, 6, 7}"
      ]
     },
     "execution_count": 192,
     "metadata": {},
     "output_type": "execute_result"
    }
   ],
   "source": [
    "ss2"
   ]
  },
  {
   "cell_type": "code",
   "execution_count": 193,
   "id": "7f8ef976",
   "metadata": {},
   "outputs": [
    {
     "data": {
      "text/plain": [
       "set"
      ]
     },
     "execution_count": 193,
     "metadata": {},
     "output_type": "execute_result"
    }
   ],
   "source": [
    "type(ss2)"
   ]
  },
  {
   "cell_type": "code",
   "execution_count": 194,
   "id": "3157d0ee",
   "metadata": {},
   "outputs": [],
   "source": [
    "ss3 = {324,456,456, \"shubham\" , 45+45j ,34.465 , (3,4,5)}"
   ]
  },
  {
   "cell_type": "code",
   "execution_count": 195,
   "id": "8cb651ec",
   "metadata": {},
   "outputs": [
    {
     "data": {
      "text/plain": [
       "{(3, 4, 5), (45+45j), 324, 34.465, 456, 'shubham'}"
      ]
     },
     "execution_count": 195,
     "metadata": {},
     "output_type": "execute_result"
    }
   ],
   "source": [
    "ss3"
   ]
  },
  {
   "cell_type": "code",
   "execution_count": 196,
   "id": "e9ba5678",
   "metadata": {},
   "outputs": [],
   "source": [
    "ss4 = {2,3,4,5,6,2,2,3,4,5,2,3,1,2,3,4,5,6,1,2,2,3}"
   ]
  },
  {
   "cell_type": "code",
   "execution_count": 197,
   "id": "3020459e",
   "metadata": {},
   "outputs": [
    {
     "data": {
      "text/plain": [
       "{1, 2, 3, 4, 5, 6}"
      ]
     },
     "execution_count": 197,
     "metadata": {},
     "output_type": "execute_result"
    }
   ],
   "source": [
    "ss4"
   ]
  },
  {
   "cell_type": "code",
   "execution_count": 198,
   "id": "823c6a99",
   "metadata": {},
   "outputs": [],
   "source": [
    "l6 = [2,3,4,5,6,2,2,3,4,5,2,3,1,2,3,4,5,6,1,2,2,3, 'Shubha,', 'Shubham']"
   ]
  },
  {
   "cell_type": "code",
   "execution_count": 200,
   "id": "f96776e3",
   "metadata": {},
   "outputs": [],
   "source": [
    "l6=list(set(l6))"
   ]
  },
  {
   "cell_type": "code",
   "execution_count": 201,
   "id": "04416baf",
   "metadata": {},
   "outputs": [
    {
     "data": {
      "text/plain": [
       "[1, 2, 3, 4, 5, 6, 'Shubha,', 'Shubham']"
      ]
     },
     "execution_count": 201,
     "metadata": {},
     "output_type": "execute_result"
    }
   ],
   "source": [
    "l6"
   ]
  },
  {
   "cell_type": "code",
   "execution_count": 203,
   "id": "dbade316",
   "metadata": {},
   "outputs": [],
   "source": [
    "st={4,5,6,8,7,9,9,7,4,7,5,7,4,5,5}"
   ]
  },
  {
   "cell_type": "code",
   "execution_count": 204,
   "id": "57187572",
   "metadata": {},
   "outputs": [
    {
     "data": {
      "text/plain": [
       "{4, 5, 6, 7, 8, 9}"
      ]
     },
     "execution_count": 204,
     "metadata": {},
     "output_type": "execute_result"
    }
   ],
   "source": [
    "st"
   ]
  },
  {
   "cell_type": "code",
   "execution_count": 205,
   "id": "94fd3e9a",
   "metadata": {},
   "outputs": [],
   "source": [
    "st.add(10)"
   ]
  },
  {
   "cell_type": "code",
   "execution_count": 206,
   "id": "2fff6732",
   "metadata": {},
   "outputs": [
    {
     "data": {
      "text/plain": [
       "{4, 5, 6, 7, 8, 9, 10}"
      ]
     },
     "execution_count": 206,
     "metadata": {},
     "output_type": "execute_result"
    }
   ],
   "source": [
    "st"
   ]
  },
  {
   "cell_type": "code",
   "execution_count": 207,
   "id": "0757f768",
   "metadata": {},
   "outputs": [],
   "source": [
    "st.add(12)"
   ]
  },
  {
   "cell_type": "code",
   "execution_count": 208,
   "id": "c2fce155",
   "metadata": {},
   "outputs": [
    {
     "data": {
      "text/plain": [
       "{4, 5, 6, 7, 8, 9, 10, 12}"
      ]
     },
     "execution_count": 208,
     "metadata": {},
     "output_type": "execute_result"
    }
   ],
   "source": [
    "st"
   ]
  },
  {
   "cell_type": "code",
   "execution_count": 209,
   "id": "c1089b8e",
   "metadata": {},
   "outputs": [],
   "source": [
    "st.remove(12)"
   ]
  },
  {
   "cell_type": "code",
   "execution_count": 210,
   "id": "105b5e2c",
   "metadata": {},
   "outputs": [
    {
     "data": {
      "text/plain": [
       "{4, 5, 6, 7, 8, 9, 10}"
      ]
     },
     "execution_count": 210,
     "metadata": {},
     "output_type": "execute_result"
    }
   ],
   "source": [
    "st"
   ]
  },
  {
   "cell_type": "code",
   "execution_count": null,
   "id": "1d2107c3",
   "metadata": {},
   "outputs": [],
   "source": []
  }
 ],
 "metadata": {
  "kernelspec": {
   "display_name": "Python 3 (ipykernel)",
   "language": "python",
   "name": "python3"
  },
  "language_info": {
   "codemirror_mode": {
    "name": "ipython",
    "version": 3
   },
   "file_extension": ".py",
   "mimetype": "text/x-python",
   "name": "python",
   "nbconvert_exporter": "python",
   "pygments_lexer": "ipython3",
   "version": "3.9.13"
  }
 },
 "nbformat": 4,
 "nbformat_minor": 5
}
